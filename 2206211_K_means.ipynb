{
 "cells": [
  {
   "cell_type": "code",
   "execution_count": 1,
   "id": "a746a975-db3d-44ee-bb9a-fc91612e3ae2",
   "metadata": {},
   "outputs": [],
   "source": [
    "import numpy as np\n",
    "import pandas as pd\n",
    "import matplotlib.pyplot as plt"
   ]
  },
  {
   "cell_type": "code",
   "execution_count": 2,
   "id": "5543575c-9e9f-4daa-bee2-c36335c2af75",
   "metadata": {},
   "outputs": [],
   "source": [
    "df=pd.read_csv(\"kmeans - kmeans_blobs.csv\")"
   ]
  },
  {
   "cell_type": "code",
   "execution_count": 3,
   "id": "0d948933-f2fb-43c6-b5f2-ff4f0660779c",
   "metadata": {},
   "outputs": [
    {
     "data": {
      "text/html": [
       "<div>\n",
       "<style scoped>\n",
       "    .dataframe tbody tr th:only-of-type {\n",
       "        vertical-align: middle;\n",
       "    }\n",
       "\n",
       "    .dataframe tbody tr th {\n",
       "        vertical-align: top;\n",
       "    }\n",
       "\n",
       "    .dataframe thead th {\n",
       "        text-align: right;\n",
       "    }\n",
       "</style>\n",
       "<table border=\"1\" class=\"dataframe\">\n",
       "  <thead>\n",
       "    <tr style=\"text-align: right;\">\n",
       "      <th></th>\n",
       "      <th>x1</th>\n",
       "      <th>x2</th>\n",
       "    </tr>\n",
       "  </thead>\n",
       "  <tbody>\n",
       "    <tr>\n",
       "      <th>0</th>\n",
       "      <td>24.412</td>\n",
       "      <td>32.932</td>\n",
       "    </tr>\n",
       "    <tr>\n",
       "      <th>1</th>\n",
       "      <td>35.190</td>\n",
       "      <td>12.189</td>\n",
       "    </tr>\n",
       "    <tr>\n",
       "      <th>2</th>\n",
       "      <td>26.288</td>\n",
       "      <td>41.718</td>\n",
       "    </tr>\n",
       "    <tr>\n",
       "      <th>3</th>\n",
       "      <td>0.376</td>\n",
       "      <td>15.506</td>\n",
       "    </tr>\n",
       "    <tr>\n",
       "      <th>4</th>\n",
       "      <td>26.116</td>\n",
       "      <td>3.963</td>\n",
       "    </tr>\n",
       "  </tbody>\n",
       "</table>\n",
       "</div>"
      ],
      "text/plain": [
       "       x1      x2\n",
       "0  24.412  32.932\n",
       "1  35.190  12.189\n",
       "2  26.288  41.718\n",
       "3   0.376  15.506\n",
       "4  26.116   3.963"
      ]
     },
     "execution_count": 3,
     "metadata": {},
     "output_type": "execute_result"
    }
   ],
   "source": [
    "df.head()"
   ]
  },
  {
   "cell_type": "code",
   "execution_count": 4,
   "id": "60656002-1d78-4a3a-b98d-ee6d3f8dda2f",
   "metadata": {},
   "outputs": [
    {
     "data": {
      "text/plain": [
       "(60, 2)"
      ]
     },
     "execution_count": 4,
     "metadata": {},
     "output_type": "execute_result"
    }
   ],
   "source": [
    "df.shape"
   ]
  },
  {
   "cell_type": "code",
   "execution_count": 5,
   "id": "1a42ac7d-87a0-44b4-994f-3cdf92d04099",
   "metadata": {},
   "outputs": [
    {
     "data": {
      "text/plain": [
       "x1    0\n",
       "x2    0\n",
       "dtype: int64"
      ]
     },
     "execution_count": 5,
     "metadata": {},
     "output_type": "execute_result"
    }
   ],
   "source": [
    "df.isnull().sum()"
   ]
  },
  {
   "cell_type": "code",
   "execution_count": 6,
   "id": "4ba821c6-4dad-41df-9ae5-6407199e9b3d",
   "metadata": {},
   "outputs": [],
   "source": [
    "def normalize(df):\n",
    "    n=(df-df.min())/(df.max()-df.min())\n",
    "    return n"
   ]
  },
  {
   "cell_type": "code",
   "execution_count": 7,
   "id": "378f2c69-4734-454c-bf3a-0fe47bb7a53a",
   "metadata": {},
   "outputs": [
    {
     "data": {
      "text/html": [
       "<div>\n",
       "<style scoped>\n",
       "    .dataframe tbody tr th:only-of-type {\n",
       "        vertical-align: middle;\n",
       "    }\n",
       "\n",
       "    .dataframe tbody tr th {\n",
       "        vertical-align: top;\n",
       "    }\n",
       "\n",
       "    .dataframe thead th {\n",
       "        text-align: right;\n",
       "    }\n",
       "</style>\n",
       "<table border=\"1\" class=\"dataframe\">\n",
       "  <thead>\n",
       "    <tr style=\"text-align: right;\">\n",
       "      <th></th>\n",
       "      <th>x1</th>\n",
       "      <th>x2</th>\n",
       "    </tr>\n",
       "  </thead>\n",
       "  <tbody>\n",
       "    <tr>\n",
       "      <th>0</th>\n",
       "      <td>0.622452</td>\n",
       "      <td>0.666652</td>\n",
       "    </tr>\n",
       "    <tr>\n",
       "      <th>1</th>\n",
       "      <td>0.889776</td>\n",
       "      <td>0.198211</td>\n",
       "    </tr>\n",
       "    <tr>\n",
       "      <th>2</th>\n",
       "      <td>0.668982</td>\n",
       "      <td>0.865066</td>\n",
       "    </tr>\n",
       "    <tr>\n",
       "      <th>3</th>\n",
       "      <td>0.026291</td>\n",
       "      <td>0.273119</td>\n",
       "    </tr>\n",
       "    <tr>\n",
       "      <th>4</th>\n",
       "      <td>0.664716</td>\n",
       "      <td>0.012443</td>\n",
       "    </tr>\n",
       "  </tbody>\n",
       "</table>\n",
       "</div>"
      ],
      "text/plain": [
       "         x1        x2\n",
       "0  0.622452  0.666652\n",
       "1  0.889776  0.198211\n",
       "2  0.668982  0.865066\n",
       "3  0.026291  0.273119\n",
       "4  0.664716  0.012443"
      ]
     },
     "execution_count": 7,
     "metadata": {},
     "output_type": "execute_result"
    }
   ],
   "source": [
    "df=normalize(df)\n",
    "df.head()"
   ]
  },
  {
   "cell_type": "code",
   "execution_count": 8,
   "id": "8128fade-dcc9-4134-94f3-028cb3a8795a",
   "metadata": {},
   "outputs": [],
   "source": [
    "def incen(df, k):\n",
    "    return df.sample(n=k).to_numpy()"
   ]
  },
  {
   "cell_type": "code",
   "execution_count": 9,
   "id": "2faadc60-91b8-4a27-a934-c4bb744f2ee8",
   "metadata": {},
   "outputs": [],
   "source": [
    "def acl(df,centroids):\n",
    "    clusters=[]\n",
    "    for p in df.to_numpy():\n",
    "        dist=np.linalg.norm(p-centroids,axis=1)\n",
    "        cluster=np.argmin(dist)\n",
    "        clusters.append(cluster)\n",
    "    return np.array(clusters)"
   ]
  },
  {
   "cell_type": "code",
   "execution_count": 10,
   "id": "69581ba3-43b1-475e-ad48-66d2ad163222",
   "metadata": {},
   "outputs": [],
   "source": [
    "def ucn(df,clusters,k):\n",
    "    means=[]\n",
    "    for i in range(k):\n",
    "        clp=df.to_numpy()[clusters==i]\n",
    "        if len(clp)>0:\n",
    "            means.append(clp.mean(axis=0))\n",
    "        else:\n",
    "            means.append(np.zeros(df.shape[1]))\n",
    "    return np.array(means)"
   ]
  },
  {
   "cell_type": "code",
   "execution_count": 11,
   "id": "28412f9f-721c-4562-a05d-63ea4272d7a3",
   "metadata": {},
   "outputs": [],
   "source": [
    "def k_means(df,k,iters=100, tol=1e-4):\n",
    "    cen=incen(df,k)\n",
    "    for i in range(iters):\n",
    "        cs=acl(df,cen)\n",
    "        ncen=ucn(df,cs,k)\n",
    "        if np.linalg.norm(ncen-cen)<tol:\n",
    "            break\n",
    "        cen=ncen\n",
    "    return cs"
   ]
  },
  {
   "cell_type": "code",
   "execution_count": 12,
   "id": "b21ae9b9-d369-4d78-a8a3-4cc621c36487",
   "metadata": {},
   "outputs": [],
   "source": [
    "def plots(df, clusters, k):\n",
    "    plt.figure(figsize=(6,6))\n",
    "    for i in range(k):\n",
    "        plt.scatter(*df.to_numpy()[clusters==i].T,label=f'Cluster {i}')\n",
    "    plt.xlabel('x1(Norm)')\n",
    "    plt.ylabel('x2(Norm)')\n",
    "    plt.title(f'K-Means(k={k})')\n",
    "    plt.legend()\n",
    "    plt.show()"
   ]
  },
  {
   "cell_type": "code",
   "execution_count": 13,
   "id": "4fd46fdf-810f-4165-9392-20c8e28b1a06",
   "metadata": {},
   "outputs": [
    {
     "data": {
      "image/png": "[encoded data removed]",
      "text/plain": [
       "<Figure size 600x600 with 1 Axes>"
      ]
     },
     "metadata": {},
     "output_type": "display_data"
    },
    {
     "data": {
      "image/png": "[encoded data removed]",
      "text/plain": [
       "<Figure size 600x600 with 1 Axes>"
      ]
     },
     "metadata": {},
     "output_type": "display_data"
    }
   ],
   "source": [
    "for k in [2,3]:\n",
    "    cl=k_means(df,k)\n",
    "    plots(df,cl,k)"
   ]
  }
 ],
 "metadata": {
  "kernelspec": {
   "display_name": "Python [conda env:base] *",
   "language": "python",
   "name": "conda-base-py"
  },
  "language_info": {
   "codemirror_mode": {
    "name": "ipython",
    "version": 3
   },
   "file_extension": ".py",
   "mimetype": "text/x-python",
   "name": "python",
   "nbconvert_exporter": "python",
   "pygments_lexer": "ipython3",
   "version": "3.12.7"
  }
 },
 "nbformat": 4,
 "nbformat_minor": 5
}
